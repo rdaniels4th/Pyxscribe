{
 "cells": [
  {
   "cell_type": "markdown",
   "metadata": {},
   "source": [
    "# Imports & Pips\n",
    "\n",
    "## Install pytesseract from:\n",
    "https://github.com/UB-Mannheim/tesseract/wiki"
   ]
  },
  {
   "cell_type": "code",
   "execution_count": 39,
   "metadata": {},
   "outputs": [],
   "source": [
    "# !pip install pytesseract "
   ]
  },
  {
   "cell_type": "code",
   "execution_count": 40,
   "metadata": {},
   "outputs": [
    {
     "name": "stderr",
     "output_type": "stream",
     "text": [
      "INFO: Files to be transcribed:\n",
      "INFO: c:\\Users\\redan\\OneDrive\\Documents\\Git\\Pyxscribe\\photos\\Screenshot 2024-03-13 123409.png\n",
      "INFO: c:\\Users\\redan\\OneDrive\\Documents\\Git\\Pyxscribe\\photos\\Screenshot 2024-03-13 123807.png\n",
      "INFO: c:\\Users\\redan\\OneDrive\\Documents\\Git\\Pyxscribe\\photos\\Screenshot 2024-03-13 124258.png\n",
      "INFO: c:\\Users\\redan\\OneDrive\\Documents\\Git\\Pyxscribe\\photos\\Screenshot 2024-03-13 124410.png\n",
      "INFO: c:\\Users\\redan\\OneDrive\\Documents\\Git\\Pyxscribe\\photos\\Screenshot 2024-03-13 124703.png\n",
      "INFO: c:\\Users\\redan\\OneDrive\\Documents\\Git\\Pyxscribe\\photos\\Screenshot 2024-03-13 124747.png\n",
      "INFO: c:\\Users\\redan\\OneDrive\\Documents\\Git\\Pyxscribe\\photos\\Screenshot 2024-03-13 125314.png\n",
      "INFO: c:\\Users\\redan\\OneDrive\\Documents\\Git\\Pyxscribe\\photos\\Screenshot 2024-03-13 125441.png\n",
      "INFO: c:\\Users\\redan\\OneDrive\\Documents\\Git\\Pyxscribe\\photos\\Screenshot 2024-03-13 125710.png\n",
      "INFO: c:\\Users\\redan\\OneDrive\\Documents\\Git\\Pyxscribe\\photos\\Screenshot 2024-03-13 125855.png\n",
      "INFO: c:\\Users\\redan\\OneDrive\\Documents\\Git\\Pyxscribe\\photos\\Screenshot 2024-03-13 125959.png\n",
      "INFO: c:\\Users\\redan\\OneDrive\\Documents\\Git\\Pyxscribe\\photos\\Screenshot 2024-03-13 130720.png\n",
      "INFO: c:\\Users\\redan\\OneDrive\\Documents\\Git\\Pyxscribe\\photos\\Screenshot 2024-03-13 130815.png\n",
      "INFO: c:\\Users\\redan\\OneDrive\\Documents\\Git\\Pyxscribe\\photos\\Screenshot 2024-03-13 131528.png\n",
      "INFO: c:\\Users\\redan\\OneDrive\\Documents\\Git\\Pyxscribe\\photos\\Screenshot 2024-03-13 131723.png\n",
      "INFO: c:\\Users\\redan\\OneDrive\\Documents\\Git\\Pyxscribe\\photos\\Screenshot 2024-03-13 131954.png\n",
      "INFO: c:\\Users\\redan\\OneDrive\\Documents\\Git\\Pyxscribe\\photos\\Screenshot 2024-03-13 133229.png\n",
      "INFO: c:\\Users\\redan\\OneDrive\\Documents\\Git\\Pyxscribe\\photos\\Screenshot 2024-03-13 133417.png\n",
      "INFO: c:\\Users\\redan\\OneDrive\\Documents\\Git\\Pyxscribe\\photos\\Screenshot 2024-03-13 133555.png\n",
      "INFO: c:\\Users\\redan\\OneDrive\\Documents\\Git\\Pyxscribe\\photos\\Screenshot 2024-03-13 134331.png\n",
      "INFO: c:\\Users\\redan\\OneDrive\\Documents\\Git\\Pyxscribe\\photos\\Screenshot 2024-03-13 134754.png\n",
      "INFO: c:\\Users\\redan\\OneDrive\\Documents\\Git\\Pyxscribe\\photos\\Screenshot 2024-03-13 135155.png\n",
      "INFO: c:\\Users\\redan\\OneDrive\\Documents\\Git\\Pyxscribe\\photos\\Screenshot 2024-03-13 135306.png\n",
      "INFO: c:\\Users\\redan\\OneDrive\\Documents\\Git\\Pyxscribe\\photos\\Screenshot 2024-03-13 135431.png\n",
      "INFO: c:\\Users\\redan\\OneDrive\\Documents\\Git\\Pyxscribe\\photos\\Screenshot 2024-03-13 135623.png\n",
      "INFO: c:\\Users\\redan\\OneDrive\\Documents\\Git\\Pyxscribe\\photos\\Screenshot 2024-03-13 135856.png\n",
      "INFO: c:\\Users\\redan\\OneDrive\\Documents\\Git\\Pyxscribe\\photos\\Screenshot 2024-03-13 135924.png\n",
      "INFO: c:\\Users\\redan\\OneDrive\\Documents\\Git\\Pyxscribe\\photos\\Screenshot 2024-03-13 141022.png\n",
      "INFO: c:\\Users\\redan\\OneDrive\\Documents\\Git\\Pyxscribe\\photos\\Screenshot 2024-03-13 141131.png\n",
      "INFO: c:\\Users\\redan\\OneDrive\\Documents\\Git\\Pyxscribe\\photos\\Screenshot 2024-03-13 141240.png\n",
      "INFO: c:\\Users\\redan\\OneDrive\\Documents\\Git\\Pyxscribe\\photos\\Screenshot 2024-03-13 142609.png\n",
      "INFO: c:\\Users\\redan\\OneDrive\\Documents\\Git\\Pyxscribe\\photos\\Screenshot 2024-03-13 143340.png\n",
      "INFO: c:\\Users\\redan\\OneDrive\\Documents\\Git\\Pyxscribe\\photos\\Screenshot 2024-03-13 143944.png\n",
      "INFO: c:\\Users\\redan\\OneDrive\\Documents\\Git\\Pyxscribe\\photos\\Screenshot 2024-03-13 144847.png\n",
      "INFO: c:\\Users\\redan\\OneDrive\\Documents\\Git\\Pyxscribe\\photos\\Screenshot 2024-03-13 144930.png\n",
      "INFO: c:\\Users\\redan\\OneDrive\\Documents\\Git\\Pyxscribe\\photos\\Screenshot 2024-03-13 150213.png\n",
      "INFO: c:\\Users\\redan\\OneDrive\\Documents\\Git\\Pyxscribe\\photos\\Screenshot 2024-03-13 151038.png\n"
     ]
    },
    {
     "name": "stderr",
     "output_type": "stream",
     "text": [
      "INFO: Transcribed text has been saved to c:\\Users\\redan\\OneDrive\\Documents\\Git\\Pyxscribe\\transcripts\\text_extract_1.txt\n"
     ]
    }
   ],
   "source": [
    "import logging\n",
    "from pathlib import Path\n",
    "from PIL import Image\n",
    "import pytesseract\n",
    "\n",
    "# Configure Tesseract path\n",
    "pytesseract.pytesseract.tesseract_cmd = \"C:\\\\Program Files\\\\Tesseract-OCR\\\\tesseract.exe\"\n",
    "\n",
    "# Paths and directory names\n",
    "current_directory = Path.cwd()\n",
    "photos_dir_name = 'photos'\n",
    "transcripts_dir_name = 'transcripts'\n",
    "photos_dir_path = current_directory / photos_dir_name\n",
    "transcripts_dir_path = current_directory / transcripts_dir_name\n",
    "\n",
    "# Ensure the transcripts directory exists\n",
    "transcripts_dir_path.mkdir(exist_ok=True)\n",
    "\n",
    "# Setup logging\n",
    "logging.basicConfig(level=logging.INFO, format='%(levelname)s: %(message)s')\n",
    "\n",
    "def get_next_file_id(directory_path: Path):\n",
    "    existing_files = [f.stem for f in directory_path.glob('text_extract_*.txt')]\n",
    "    existing_ids = [int(f.split('_')[-1]) for f in existing_files if f.split('_')[-1].isdigit()]\n",
    "    next_id = max(existing_ids) + 1 if existing_ids else 1\n",
    "    return next_id\n",
    "\n",
    "def get_filenames(directory_path: Path):\n",
    "    if directory_path.exists() and directory_path.is_dir():\n",
    "        return [entry for entry in directory_path.iterdir() if entry.is_file()]\n",
    "    else:\n",
    "        logging.error(f\"Directory '{directory_path}' does not exist.\")\n",
    "        return []\n",
    "\n",
    "def main():\n",
    "    sorted_photos_filenames = get_filenames(photos_dir_path)\n",
    "    logging.info(\"Files to be transcribed:\")\n",
    "    for path in sorted_photos_filenames:\n",
    "        logging.info(path)\n",
    "\n",
    "    extracted_texts = []\n",
    "    for path in sorted_photos_filenames:\n",
    "        try:\n",
    "            img = Image.open(path)\n",
    "            text = pytesseract.image_to_string(img)\n",
    "            extracted_texts.append(f\"File: {path.name}\\n{text}\")\n",
    "        except Exception as e:\n",
    "            logging.error(f\"Error processing {path}: {e}\")\n",
    "\n",
    "    if extracted_texts:\n",
    "        next_id = get_next_file_id(transcripts_dir_path)\n",
    "        transcripts_file_name = f\"text_extract_{next_id}.txt\"\n",
    "        transcripts_file_path = transcripts_dir_path / transcripts_file_name\n",
    "        transcripts_file_path.write_text(\"\\n\\n---\\n\\n\".join(extracted_texts))\n",
    "        logging.info(f\"Transcribed text has been saved to {transcripts_file_path}\")\n",
    "\n",
    "if __name__ == \"__main__\":\n",
    "    main()"
   ]
  }
 ],
 "metadata": {
  "kernelspec": {
   "display_name": "REDBaseEnv",
   "language": "python",
   "name": "python3"
  },
  "language_info": {
   "codemirror_mode": {
    "name": "ipython",
    "version": 3
   },
   "file_extension": ".py",
   "mimetype": "text/x-python",
   "name": "python",
   "nbconvert_exporter": "python",
   "pygments_lexer": "ipython3",
   "version": "3.11.8"
  }
 },
 "nbformat": 4,
 "nbformat_minor": 2
}
