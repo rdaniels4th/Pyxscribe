{
 "cells": [
  {
   "cell_type": "markdown",
   "metadata": {},
   "source": [
    "# Imports & Pips\n",
    "\n",
    "## Install pytesseract from:\n",
    "https://github.com/UB-Mannheim/tesseract/wiki\n",
    "\n",
    "## Then add it to your path:\n",
    "pytesseract.pytesseract.tesseract_cmd = r'C:\\Program Files\\Tesseract-OCR\\tesseract.exe'"
   ]
  },
  {
   "cell_type": "code",
   "execution_count": 33,
   "metadata": {},
   "outputs": [
    {
     "name": "stdout",
     "output_type": "stream",
     "text": [
      "Requirement already satisfied: pytesseract in c:\\users\\redan\\.conda\\envs\\redbaseenv\\lib\\site-packages (0.3.10)\n",
      "Requirement already satisfied: packaging>=21.3 in c:\\users\\redan\\.conda\\envs\\redbaseenv\\lib\\site-packages (from pytesseract) (23.1)\n",
      "Requirement already satisfied: Pillow>=8.0.0 in c:\\users\\redan\\.conda\\envs\\redbaseenv\\lib\\site-packages (from pytesseract) (10.2.0)\n"
     ]
    }
   ],
   "source": [
    "!pip install pytesseract "
   ]
  },
  {
   "cell_type": "code",
   "execution_count": 36,
   "metadata": {},
   "outputs": [
    {
     "name": "stderr",
     "output_type": "stream",
     "text": [
      "INFO: Files to be transcribed:\n",
      "INFO: c:\\Users\\redan\\OneDrive\\Documents\\Git\\Pyxscribe\\photos\\Screenshot 2024-03-14 114332.png\n",
      "INFO: c:\\Users\\redan\\OneDrive\\Documents\\Git\\Pyxscribe\\photos\\Screenshot 2024-03-14 114341.png\n",
      "INFO: Transcribed text has been saved to c:\\Users\\redan\\OneDrive\\Documents\\Git\\Pyxscribe\\transcripts\\text_extract_1.txt\n"
     ]
    }
   ],
   "source": [
    "import logging\n",
    "from pathlib import Path\n",
    "from PIL import Image\n",
    "import pytesseract\n",
    "\n",
    "# Configure Tesseract path\n",
    "pytesseract.pytesseract.tesseract_cmd = \"C:\\\\Program Files\\\\Tesseract-OCR\\\\tesseract.exe\"\n",
    "\n",
    "# Paths and directory names\n",
    "current_directory = Path.cwd()\n",
    "photos_dir_name = 'photos'\n",
    "transcripts_dir_name = 'transcripts'\n",
    "photos_dir_path = current_directory / photos_dir_name\n",
    "transcripts_dir_path = current_directory / transcripts_dir_name\n",
    "\n",
    "# Ensure the transcripts directory exists\n",
    "transcripts_dir_path.mkdir(exist_ok=True)\n",
    "\n",
    "# Setup logging\n",
    "logging.basicConfig(level=logging.INFO, format='%(levelname)s: %(message)s')\n",
    "\n",
    "def get_next_file_id(directory_path: Path):\n",
    "    existing_files = [f.stem for f in directory_path.glob('text_extract_*.txt')]\n",
    "    existing_ids = [int(f.split('_')[-1]) for f in existing_files if f.split('_')[-1].isdigit()]\n",
    "    next_id = max(existing_ids) + 1 if existing_ids else 1\n",
    "    return next_id\n",
    "\n",
    "def get_filenames(directory_path: Path):\n",
    "    if directory_path.exists() and directory_path.is_dir():\n",
    "        return [entry for entry in directory_path.iterdir() if entry.is_file()]\n",
    "    else:\n",
    "        logging.error(f\"Directory '{directory_path}' does not exist.\")\n",
    "        return []\n",
    "\n",
    "def main():\n",
    "    sorted_photos_filenames = get_filenames(photos_dir_path)\n",
    "    logging.info(\"Files to be transcribed:\")\n",
    "    for path in sorted_photos_filenames:\n",
    "        logging.info(path)\n",
    "\n",
    "    extracted_texts = []\n",
    "    for path in sorted_photos_filenames:\n",
    "        try:\n",
    "            img = Image.open(path)\n",
    "            text = pytesseract.image_to_string(img)\n",
    "            extracted_texts.append(f\"File: {path.name}\\n{text}\")\n",
    "        except Exception as e:\n",
    "            logging.error(f\"Error processing {path}: {e}\")\n",
    "\n",
    "    if extracted_texts:\n",
    "        next_id = get_next_file_id(transcripts_dir_path)\n",
    "        transcripts_file_name = f\"text_extract_{next_id}.txt\"\n",
    "        transcripts_file_path = transcripts_dir_path / transcripts_file_name\n",
    "        transcripts_file_path.write_text(\"\\n\\n---\\n\\n\".join(extracted_texts))\n",
    "        logging.info(f\"Transcribed text has been saved to {transcripts_file_path}\")\n",
    "\n",
    "if __name__ == \"__main__\":\n",
    "    main()"
   ]
  }
 ],
 "metadata": {
  "kernelspec": {
   "display_name": "REDBaseEnv",
   "language": "python",
   "name": "python3"
  },
  "language_info": {
   "codemirror_mode": {
    "name": "ipython",
    "version": 3
   },
   "file_extension": ".py",
   "mimetype": "text/x-python",
   "name": "python",
   "nbconvert_exporter": "python",
   "pygments_lexer": "ipython3",
   "version": "3.11.8"
  }
 },
 "nbformat": 4,
 "nbformat_minor": 2
}
